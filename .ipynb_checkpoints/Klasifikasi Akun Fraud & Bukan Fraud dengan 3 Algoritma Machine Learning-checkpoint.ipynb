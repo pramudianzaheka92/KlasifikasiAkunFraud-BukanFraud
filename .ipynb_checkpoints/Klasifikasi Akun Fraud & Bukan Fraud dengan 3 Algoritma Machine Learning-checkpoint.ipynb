{
 "cells": [
  {
   "cell_type": "markdown",
   "id": "c51f936d",
   "metadata": {},
   "source": [
    "## 1. Import Libraries and Load for Each Dataset (Fraud Username List Dataset and All Username List Dataset)"
   ]
  },
  {
   "cell_type": "code",
   "execution_count": null,
   "id": "6f1f6c2b",
   "metadata": {},
   "outputs": [],
   "source": [
    "\"\"\"\n",
    "Meng-import library-library yang akan digunakan di dalam penelitian kali ini\n",
    "seperti library untuk membuat visualisasi data, library untuk mengeksplorasi data,\n",
    "library untuk membersihkan data dan memodelkan data yang telah dibersihkan menggunakan Algoritma Machine Learning\n",
    "dengan tujuan agar dapat mengklasifikasikan akun/username fraud dan bukan fraud berdasarkan kategori label\n",
    "\"\"\"\n",
    "import pandas as pd\n",
    "import matplotlib.pyplot as plt\n",
    "import numpy as np\n",
    "import seaborn as sns\n",
    "plt.style.use(\"seaborn\")\n",
    "from sklearn.model_selection import train_test_split, GridSearchCV\n",
    "from sklearn.naive_bayes import GaussianNB\n",
    "from sklearn.ensemble import RandomForestClassifier\n",
    "from sklearn.neighbors import KNeighborsClassifier\n",
    "from sklearn.metrics import accuracy_score, precision_score, recall_score, f1_score, confusion_matrix, classification_report"
   ]
  },
  {
   "cell_type": "code",
   "execution_count": null,
   "id": "8348714f",
   "metadata": {},
   "outputs": [],
   "source": []
  },
  {
   "cell_type": "code",
   "execution_count": null,
   "id": "a3193996",
   "metadata": {},
   "outputs": [],
   "source": []
  }
 ],
 "metadata": {
  "kernelspec": {
   "display_name": "Python 3 (ipykernel)",
   "language": "python",
   "name": "python3"
  },
  "language_info": {
   "codemirror_mode": {
    "name": "ipython",
    "version": 3
   },
   "file_extension": ".py",
   "mimetype": "text/x-python",
   "name": "python",
   "nbconvert_exporter": "python",
   "pygments_lexer": "ipython3",
   "version": "3.9.12"
  }
 },
 "nbformat": 4,
 "nbformat_minor": 5
}
