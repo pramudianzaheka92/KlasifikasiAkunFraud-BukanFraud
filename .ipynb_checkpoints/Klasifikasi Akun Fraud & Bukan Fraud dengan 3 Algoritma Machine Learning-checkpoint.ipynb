{
 "cells": [
  {
   "cell_type": "markdown",
   "id": "c51f936d",
   "metadata": {},
   "source": [
    "## 1. Import Libraries and Load for Each Dataset (Fraud Username List Dataset and All Username List Dataset)"
   ]
  },
  {
   "cell_type": "code",
   "execution_count": 12,
   "id": "6f1f6c2b",
   "metadata": {},
   "outputs": [],
   "source": [
    "\"\"\"\n",
    "Meng-import library-library yang akan digunakan di dalam penelitian kali ini\n",
    "seperti library untuk membuat visualisasi data, library untuk mengeksplorasi data,\n",
    "library untuk membersihkan data dan memodelkan data yang telah dibersihkan menggunakan Algoritma Machine Learning\n",
    "dengan tujuan agar dapat mengklasifikasikan akun/username fraud dan bukan fraud berdasarkan kategori label\n",
    "\"\"\"\n",
    "import pandas as pd\n",
    "import matplotlib.pyplot as plt\n",
    "import numpy as np\n",
    "import seaborn as sns\n",
    "plt.style.use(\"seaborn\")\n",
    "from sklearn.model_selection import train_test_split, GridSearchCV\n",
    "from sklearn.naive_bayes import GaussianNB\n",
    "from sklearn.ensemble import RandomForestClassifier\n",
    "from sklearn.neighbors import KNeighborsClassifier\n",
    "from sklearn.metrics import accuracy_score, precision_score, recall_score, f1_score, confusion_matrix, classification_report"
   ]
  },
  {
   "cell_type": "markdown",
   "id": "a8bb6161",
   "metadata": {},
   "source": [
    "### 1.1.  Exploring Data from All Username/Account List Dataset (Both Fraud and Non-Fraud Accounts) and Preprocessing the Dataset "
   ]
  },
  {
   "cell_type": "code",
   "execution_count": 13,
   "id": "8348714f",
   "metadata": {},
   "outputs": [
    {
     "data": {
      "text/html": [
       "<div>\n",
       "<style scoped>\n",
       "    .dataframe tbody tr th:only-of-type {\n",
       "        vertical-align: middle;\n",
       "    }\n",
       "\n",
       "    .dataframe tbody tr th {\n",
       "        vertical-align: top;\n",
       "    }\n",
       "\n",
       "    .dataframe thead th {\n",
       "        text-align: right;\n",
       "    }\n",
       "</style>\n",
       "<table border=\"1\" class=\"dataframe\">\n",
       "  <thead>\n",
       "    <tr style=\"text-align: right;\">\n",
       "      <th></th>\n",
       "      <th>No</th>\n",
       "      <th>Nama Akun</th>\n",
       "      <th>TANGGAL UPDATE</th>\n",
       "    </tr>\n",
       "  </thead>\n",
       "  <tbody>\n",
       "    <tr>\n",
       "      <th>4513</th>\n",
       "      <td>NaN</td>\n",
       "      <td>JECKPOT</td>\n",
       "      <td>NaN</td>\n",
       "    </tr>\n",
       "    <tr>\n",
       "      <th>4514</th>\n",
       "      <td>NaN</td>\n",
       "      <td>Defzz</td>\n",
       "      <td>NaN</td>\n",
       "    </tr>\n",
       "    <tr>\n",
       "      <th>4515</th>\n",
       "      <td>NaN</td>\n",
       "      <td>M M</td>\n",
       "      <td>NaN</td>\n",
       "    </tr>\n",
       "    <tr>\n",
       "      <th>4516</th>\n",
       "      <td>NaN</td>\n",
       "      <td>BrenzSTORE</td>\n",
       "      <td>NaN</td>\n",
       "    </tr>\n",
       "    <tr>\n",
       "      <th>4517</th>\n",
       "      <td>NaN</td>\n",
       "      <td>Tosca Cell</td>\n",
       "      <td>NaN</td>\n",
       "    </tr>\n",
       "  </tbody>\n",
       "</table>\n",
       "</div>"
      ],
      "text/plain": [
       "      No   Nama Akun TANGGAL UPDATE\n",
       "4513 NaN     JECKPOT            NaN\n",
       "4514 NaN       Defzz            NaN\n",
       "4515 NaN         M M            NaN\n",
       "4516 NaN  BrenzSTORE            NaN\n",
       "4517 NaN  Tosca Cell            NaN"
      ]
     },
     "execution_count": 13,
     "metadata": {},
     "output_type": "execute_result"
    }
   ],
   "source": [
    "\"\"\"\n",
    "Membaca dataset yang berisikan seluruh daftar akun/username, baik akun fraud ataupun bukan fraud\n",
    "dari file excel \"All Username List Dataset\" serta menampilkan 5 data terbawah\n",
    "\"\"\"\n",
    "all_username_list = pd.read_excel(\"All Username List Dataset.xlsx\")\n",
    "\n",
    "all_username_list.tail()"
   ]
  },
  {
   "cell_type": "code",
   "execution_count": 14,
   "id": "cd48f516",
   "metadata": {},
   "outputs": [
    {
     "data": {
      "text/html": [
       "<div>\n",
       "<style scoped>\n",
       "    .dataframe tbody tr th:only-of-type {\n",
       "        vertical-align: middle;\n",
       "    }\n",
       "\n",
       "    .dataframe tbody tr th {\n",
       "        vertical-align: top;\n",
       "    }\n",
       "\n",
       "    .dataframe thead th {\n",
       "        text-align: right;\n",
       "    }\n",
       "</style>\n",
       "<table border=\"1\" class=\"dataframe\">\n",
       "  <thead>\n",
       "    <tr style=\"text-align: right;\">\n",
       "      <th></th>\n",
       "      <th>No</th>\n",
       "      <th>Nama Akun</th>\n",
       "      <th>TANGGAL UPDATE</th>\n",
       "    </tr>\n",
       "  </thead>\n",
       "  <tbody>\n",
       "    <tr>\n",
       "      <th>0</th>\n",
       "      <td>1.0</td>\n",
       "      <td>Maldini</td>\n",
       "      <td>19 Agustus 2022</td>\n",
       "    </tr>\n",
       "    <tr>\n",
       "      <th>1</th>\n",
       "      <td>2.0</td>\n",
       "      <td>Ibnu</td>\n",
       "      <td>19 Agustus 2022</td>\n",
       "    </tr>\n",
       "    <tr>\n",
       "      <th>2</th>\n",
       "      <td>3.0</td>\n",
       "      <td>Trimo</td>\n",
       "      <td>19 Agustus 2022</td>\n",
       "    </tr>\n",
       "    <tr>\n",
       "      <th>3</th>\n",
       "      <td>4.0</td>\n",
       "      <td>Juned</td>\n",
       "      <td>19 Agustus 2022</td>\n",
       "    </tr>\n",
       "    <tr>\n",
       "      <th>4</th>\n",
       "      <td>5.0</td>\n",
       "      <td>Gerar</td>\n",
       "      <td>19 Agustus 2022</td>\n",
       "    </tr>\n",
       "    <tr>\n",
       "      <th>5</th>\n",
       "      <td>6.0</td>\n",
       "      <td>Gundul</td>\n",
       "      <td>19 Agustus 2022</td>\n",
       "    </tr>\n",
       "    <tr>\n",
       "      <th>6</th>\n",
       "      <td>7.0</td>\n",
       "      <td>Saridi</td>\n",
       "      <td>19 Agustus 2022</td>\n",
       "    </tr>\n",
       "    <tr>\n",
       "      <th>7</th>\n",
       "      <td>8.0</td>\n",
       "      <td>snfi</td>\n",
       "      <td>19 Agustus 2022</td>\n",
       "    </tr>\n",
       "    <tr>\n",
       "      <th>8</th>\n",
       "      <td>9.0</td>\n",
       "      <td>Linda</td>\n",
       "      <td>19 Agustus 2022</td>\n",
       "    </tr>\n",
       "    <tr>\n",
       "      <th>9</th>\n",
       "      <td>10.0</td>\n",
       "      <td>Ruby</td>\n",
       "      <td>19 Agustus 2022</td>\n",
       "    </tr>\n",
       "    <tr>\n",
       "      <th>10</th>\n",
       "      <td>11.0</td>\n",
       "      <td>Aura</td>\n",
       "      <td>19 Agustus 2022</td>\n",
       "    </tr>\n",
       "    <tr>\n",
       "      <th>11</th>\n",
       "      <td>12.0</td>\n",
       "      <td>Risma</td>\n",
       "      <td>19 Agustus 2022</td>\n",
       "    </tr>\n",
       "    <tr>\n",
       "      <th>12</th>\n",
       "      <td>13.0</td>\n",
       "      <td>Dira</td>\n",
       "      <td>19 Agustus 2022</td>\n",
       "    </tr>\n",
       "    <tr>\n",
       "      <th>13</th>\n",
       "      <td>14.0</td>\n",
       "      <td>Alex</td>\n",
       "      <td>19 Agustus 2022</td>\n",
       "    </tr>\n",
       "    <tr>\n",
       "      <th>14</th>\n",
       "      <td>15.0</td>\n",
       "      <td>gilang</td>\n",
       "      <td>19 Agustus 2022</td>\n",
       "    </tr>\n",
       "    <tr>\n",
       "      <th>15</th>\n",
       "      <td>16.0</td>\n",
       "      <td>Sigit</td>\n",
       "      <td>19 Agustus 2022</td>\n",
       "    </tr>\n",
       "    <tr>\n",
       "      <th>16</th>\n",
       "      <td>17.0</td>\n",
       "      <td>Soni</td>\n",
       "      <td>19 Agustus 2022</td>\n",
       "    </tr>\n",
       "    <tr>\n",
       "      <th>17</th>\n",
       "      <td>18.0</td>\n",
       "      <td>gilang</td>\n",
       "      <td>19 Agustus 2022</td>\n",
       "    </tr>\n",
       "    <tr>\n",
       "      <th>18</th>\n",
       "      <td>19.0</td>\n",
       "      <td>Sinta</td>\n",
       "      <td>19 Agustus 2022</td>\n",
       "    </tr>\n",
       "  </tbody>\n",
       "</table>\n",
       "</div>"
      ],
      "text/plain": [
       "      No Nama Akun   TANGGAL UPDATE\n",
       "0    1.0   Maldini  19 Agustus 2022\n",
       "1    2.0      Ibnu  19 Agustus 2022\n",
       "2    3.0     Trimo  19 Agustus 2022\n",
       "3    4.0     Juned  19 Agustus 2022\n",
       "4    5.0     Gerar  19 Agustus 2022\n",
       "5    6.0    Gundul  19 Agustus 2022\n",
       "6    7.0    Saridi  19 Agustus 2022\n",
       "7    8.0      snfi  19 Agustus 2022\n",
       "8    9.0     Linda  19 Agustus 2022\n",
       "9   10.0      Ruby  19 Agustus 2022\n",
       "10  11.0      Aura  19 Agustus 2022\n",
       "11  12.0     Risma  19 Agustus 2022\n",
       "12  13.0      Dira  19 Agustus 2022\n",
       "13  14.0      Alex  19 Agustus 2022\n",
       "14  15.0    gilang  19 Agustus 2022\n",
       "15  16.0     Sigit  19 Agustus 2022\n",
       "16  17.0      Soni  19 Agustus 2022\n",
       "17  18.0    gilang  19 Agustus 2022\n",
       "18  19.0     Sinta  19 Agustus 2022"
      ]
     },
     "execution_count": 14,
     "metadata": {},
     "output_type": "execute_result"
    }
   ],
   "source": [
    "# Menampilkan 19 data teratas yang dimiliki oleh variabel DataFrame \"all_username_list\"\n",
    "all_username_list.head(19)"
   ]
  },
  {
   "cell_type": "markdown",
   "id": "9f8e6c26",
   "metadata": {},
   "source": [
    "Berdasarkan output dari kesembilan belas data yang berhasil ditampilkan dari variabel DataFrame \"all_username_list\", kita dapat mengetahui jika akun yang termasuk ke dalam file dataset \"All Username List Dataset.xlsx\" terakhir kali mengalami update di tanggal 19 Agustus 2022. Hal ini dapat kita asumsikan jika 19 data dari hasil output diatas merupakan data-data dari akun yang telah mendaftar sejak tanggal 19 Agustus 2022.\n",
    "\n",
    "Perlu diingat dan diketahui kembali jika file dataset \"All Username List Dataset.xlsx\" yang memiliki format Microsoft Excel merupakan sebuah dataset dari hasil pendaftaran akun-akun e-wallet dari suatu layanan financial technology (fintech). Seluruh akun yang terdapat di dalam file dataset \"All Username List Dataset.xlsx\" merupakan gabungan akun antara akun fraud (akun penipuan) dan akun non-fraud atau akun yang bukan penipuan. Maka dari itu penelitian ini bertujuan untuk dapat mengklasifikasikan antara akun fraud dan akun bukan fraud sehingga akan memudahkan pengambilan keputusan dalam memberikan layanan terbaiknya dan dapat mencegah atau mem-blacklist akun-akun yang tergolong sebagai akun penipuan agar tidak ada yang dirugikan."
   ]
  },
  {
   "cell_type": "code",
   "execution_count": 15,
   "id": "f570f75e",
   "metadata": {},
   "outputs": [
    {
     "data": {
      "text/plain": [
       "Index(['No', 'Nama Akun', 'TANGGAL UPDATE'], dtype='object')"
      ]
     },
     "execution_count": 15,
     "metadata": {},
     "output_type": "execute_result"
    }
   ],
   "source": [
    "# Menampilkan nama-nama kolom yang dimiliki oleh variabel DataFrame \"all_username_list\"\n",
    "all_username_list.columns"
   ]
  },
  {
   "cell_type": "markdown",
   "id": "6205435c",
   "metadata": {},
   "source": [
    "Hasil diatas menunjukkan jika variabel DataFrame \"all_username_list\" hanya memiliki 3 kolom saja yaitu kolom \"No\", \"Nama Akun\" dan terakhir adalah kolom \"TANGGAL UPDATE\". Khusus untuk kolom \"No\" saya akan menghapus kolom tersebut dikarenakan kolom \"No\" merupakan kolom yang tidak dibutuhkan selama proses penelitian ini berlangsung. Penyebab utama mengapa kolom \"No\" akan dihilangkan adalah data-data yang terdapat di dalam kolom ini hanya menunjukkan nomor baris dari masing-masing akun e-wallet saja.\n",
    "\n",
    "Karena pada DataFrame sudah terdapat nomor indeks yang berfungsi sebagai penunjuk baris dari masing-masing nama akun e-wallet yang berhasil terdaftar di perusahaan PT XYZ, maka kolom \"No\" sudah tidak dibutuhkan. Selain itu, penelitian ini juga akan mengubah format penamaan kolom menjadi lebih rapi dan teratur karena seperti yang terlihat dari hasil output diatas, gaya penulisan antara kolom \"Nama Akun\" dan kolom \"TANGGAL UPDATE\" sangat jauh berbeda. Maka dari itu perubahan format penulisan nama kolom akan dilakukan di dalam penelitian ini."
   ]
  },
  {
   "cell_type": "code",
   "execution_count": 16,
   "id": "43e355de",
   "metadata": {},
   "outputs": [
    {
     "data": {
      "text/html": [
       "<div>\n",
       "<style scoped>\n",
       "    .dataframe tbody tr th:only-of-type {\n",
       "        vertical-align: middle;\n",
       "    }\n",
       "\n",
       "    .dataframe tbody tr th {\n",
       "        vertical-align: top;\n",
       "    }\n",
       "\n",
       "    .dataframe thead th {\n",
       "        text-align: right;\n",
       "    }\n",
       "</style>\n",
       "<table border=\"1\" class=\"dataframe\">\n",
       "  <thead>\n",
       "    <tr style=\"text-align: right;\">\n",
       "      <th></th>\n",
       "      <th>Nama Akun</th>\n",
       "      <th>TANGGAL UPDATE</th>\n",
       "    </tr>\n",
       "  </thead>\n",
       "  <tbody>\n",
       "    <tr>\n",
       "      <th>0</th>\n",
       "      <td>Maldini</td>\n",
       "      <td>19 Agustus 2022</td>\n",
       "    </tr>\n",
       "    <tr>\n",
       "      <th>1</th>\n",
       "      <td>Ibnu</td>\n",
       "      <td>19 Agustus 2022</td>\n",
       "    </tr>\n",
       "    <tr>\n",
       "      <th>2</th>\n",
       "      <td>Trimo</td>\n",
       "      <td>19 Agustus 2022</td>\n",
       "    </tr>\n",
       "    <tr>\n",
       "      <th>3</th>\n",
       "      <td>Juned</td>\n",
       "      <td>19 Agustus 2022</td>\n",
       "    </tr>\n",
       "    <tr>\n",
       "      <th>4</th>\n",
       "      <td>Gerar</td>\n",
       "      <td>19 Agustus 2022</td>\n",
       "    </tr>\n",
       "    <tr>\n",
       "      <th>5</th>\n",
       "      <td>Gundul</td>\n",
       "      <td>19 Agustus 2022</td>\n",
       "    </tr>\n",
       "    <tr>\n",
       "      <th>6</th>\n",
       "      <td>Saridi</td>\n",
       "      <td>19 Agustus 2022</td>\n",
       "    </tr>\n",
       "    <tr>\n",
       "      <th>7</th>\n",
       "      <td>snfi</td>\n",
       "      <td>19 Agustus 2022</td>\n",
       "    </tr>\n",
       "    <tr>\n",
       "      <th>8</th>\n",
       "      <td>Linda</td>\n",
       "      <td>19 Agustus 2022</td>\n",
       "    </tr>\n",
       "  </tbody>\n",
       "</table>\n",
       "</div>"
      ],
      "text/plain": [
       "  Nama Akun   TANGGAL UPDATE\n",
       "0   Maldini  19 Agustus 2022\n",
       "1      Ibnu  19 Agustus 2022\n",
       "2     Trimo  19 Agustus 2022\n",
       "3     Juned  19 Agustus 2022\n",
       "4     Gerar  19 Agustus 2022\n",
       "5    Gundul  19 Agustus 2022\n",
       "6    Saridi  19 Agustus 2022\n",
       "7      snfi  19 Agustus 2022\n",
       "8     Linda  19 Agustus 2022"
      ]
     },
     "execution_count": 16,
     "metadata": {},
     "output_type": "execute_result"
    }
   ],
   "source": [
    "# Menghapus kolom \"No\" dari daftar kolom variabel DataFrame \"all_username_list\" serta menampilkan 9 data teratas\n",
    "all_username_list = all_username_list.drop(columns=[\"No\"], axis=1)\n",
    "\n",
    "all_username_list.head(9)"
   ]
  },
  {
   "cell_type": "markdown",
   "id": "8a5ed993",
   "metadata": {},
   "source": [
    "Hasil diatas menunjukkan bahwasanya saya telah berhasil menghilangkan kolom \"No\" dari variabel DataFrame \"all_username_list\" karena kolom tersebut tidak dibutuhkan karena tujuan kolom \"No\" hanya menjadi penunjuk nomor baris untuk masing-masing nama akun yang berhasil terdaftar dan ter-update. Sementara itu pada format DataFrame dari library Pandas telah menyediakan indeks data yang berfungsi untuk menjadi penunjuk nomor baris dari masing-masing data yang tersimpan di dalam dataset.\n",
    "\n",
    "Maka dari itu kolom \"No\" dihapus/dihilangkan dan saat ini variabel DataFrame \"all_username_list\" hanya memiliki 2 kolom saja yaitu kolom \"Nama Akun\" dan \"TANGGAL UPDATE\". Selanjutnya kedua kolom tersebut akan diubah format penamaan kolom menjadi lebih teratur dan rapi."
   ]
  },
  {
   "cell_type": "code",
   "execution_count": 17,
   "id": "45441817",
   "metadata": {},
   "outputs": [
    {
     "data": {
      "text/html": [
       "<div>\n",
       "<style scoped>\n",
       "    .dataframe tbody tr th:only-of-type {\n",
       "        vertical-align: middle;\n",
       "    }\n",
       "\n",
       "    .dataframe tbody tr th {\n",
       "        vertical-align: top;\n",
       "    }\n",
       "\n",
       "    .dataframe thead th {\n",
       "        text-align: right;\n",
       "    }\n",
       "</style>\n",
       "<table border=\"1\" class=\"dataframe\">\n",
       "  <thead>\n",
       "    <tr style=\"text-align: right;\">\n",
       "      <th></th>\n",
       "      <th>account_name</th>\n",
       "      <th>updated_date</th>\n",
       "    </tr>\n",
       "  </thead>\n",
       "  <tbody>\n",
       "    <tr>\n",
       "      <th>4500</th>\n",
       "      <td>Aiwaah Cell</td>\n",
       "      <td>NaN</td>\n",
       "    </tr>\n",
       "    <tr>\n",
       "      <th>4501</th>\n",
       "      <td>Mirza Store</td>\n",
       "      <td>NaN</td>\n",
       "    </tr>\n",
       "    <tr>\n",
       "      <th>4502</th>\n",
       "      <td>Mirza Store</td>\n",
       "      <td>NaN</td>\n",
       "    </tr>\n",
       "    <tr>\n",
       "      <th>4503</th>\n",
       "      <td>Jzjwoeij</td>\n",
       "      <td>NaN</td>\n",
       "    </tr>\n",
       "    <tr>\n",
       "      <th>4504</th>\n",
       "      <td>DANZZ STORE</td>\n",
       "      <td>NaN</td>\n",
       "    </tr>\n",
       "    <tr>\n",
       "      <th>4505</th>\n",
       "      <td>Neng Sungai Bulan</td>\n",
       "      <td>NaN</td>\n",
       "    </tr>\n",
       "    <tr>\n",
       "      <th>4506</th>\n",
       "      <td>Refund</td>\n",
       "      <td>NaN</td>\n",
       "    </tr>\n",
       "    <tr>\n",
       "      <th>4507</th>\n",
       "      <td>Lordbase</td>\n",
       "      <td>NaN</td>\n",
       "    </tr>\n",
       "    <tr>\n",
       "      <th>4508</th>\n",
       "      <td>ATHA CELL</td>\n",
       "      <td>NaN</td>\n",
       "    </tr>\n",
       "    <tr>\n",
       "      <th>4509</th>\n",
       "      <td>QUICKSILVERZ</td>\n",
       "      <td>NaN</td>\n",
       "    </tr>\n",
       "    <tr>\n",
       "      <th>4510</th>\n",
       "      <td>Ryy</td>\n",
       "      <td>NaN</td>\n",
       "    </tr>\n",
       "    <tr>\n",
       "      <th>4511</th>\n",
       "      <td>TERIMA VOUCHER</td>\n",
       "      <td>NaN</td>\n",
       "    </tr>\n",
       "    <tr>\n",
       "      <th>4512</th>\n",
       "      <td>nic</td>\n",
       "      <td>NaN</td>\n",
       "    </tr>\n",
       "    <tr>\n",
       "      <th>4513</th>\n",
       "      <td>JECKPOT</td>\n",
       "      <td>NaN</td>\n",
       "    </tr>\n",
       "    <tr>\n",
       "      <th>4514</th>\n",
       "      <td>Defzz</td>\n",
       "      <td>NaN</td>\n",
       "    </tr>\n",
       "    <tr>\n",
       "      <th>4515</th>\n",
       "      <td>M M</td>\n",
       "      <td>NaN</td>\n",
       "    </tr>\n",
       "    <tr>\n",
       "      <th>4516</th>\n",
       "      <td>BrenzSTORE</td>\n",
       "      <td>NaN</td>\n",
       "    </tr>\n",
       "    <tr>\n",
       "      <th>4517</th>\n",
       "      <td>Tosca Cell</td>\n",
       "      <td>NaN</td>\n",
       "    </tr>\n",
       "  </tbody>\n",
       "</table>\n",
       "</div>"
      ],
      "text/plain": [
       "           account_name updated_date\n",
       "4500        Aiwaah Cell          NaN\n",
       "4501        Mirza Store          NaN\n",
       "4502        Mirza Store          NaN\n",
       "4503           Jzjwoeij          NaN\n",
       "4504        DANZZ STORE          NaN\n",
       "4505  Neng Sungai Bulan          NaN\n",
       "4506             Refund          NaN\n",
       "4507           Lordbase          NaN\n",
       "4508          ATHA CELL          NaN\n",
       "4509       QUICKSILVERZ          NaN\n",
       "4510                Ryy          NaN\n",
       "4511     TERIMA VOUCHER          NaN\n",
       "4512                nic          NaN\n",
       "4513            JECKPOT          NaN\n",
       "4514              Defzz          NaN\n",
       "4515                M M          NaN\n",
       "4516         BrenzSTORE          NaN\n",
       "4517         Tosca Cell          NaN"
      ]
     },
     "execution_count": 17,
     "metadata": {},
     "output_type": "execute_result"
    }
   ],
   "source": [
    "\"\"\"\n",
    "Mengubah format penamaan tulisan pada kolom \"Nama Akun\" menjadi \"account_name\"\n",
    "dan \"TANGGAL UPDATE\" menjadi \"updated_date\" dari variabel DataFrame \"all_username_list\"\n",
    "\"\"\"\n",
    "all_username_list = all_username_list.rename(columns={\"Nama Akun\": \"account_name\", \"TANGGAL UPDATE\": \"updated_date\"})\n",
    "\n",
    "all_username_list.tail(18)"
   ]
  },
  {
   "cell_type": "code",
   "execution_count": 18,
   "id": "a3193996",
   "metadata": {},
   "outputs": [
    {
     "data": {
      "text/plain": [
       "(4518, 2)"
      ]
     },
     "execution_count": 18,
     "metadata": {},
     "output_type": "execute_result"
    }
   ],
   "source": [
    "# Menampilkan jumlah baris dan jumlah kolom yang dimiliki oleh variabel DataFrame \"all_username_list\"\n",
    "all_username_list.shape"
   ]
  },
  {
   "cell_type": "markdown",
   "id": "aa633a2f",
   "metadata": {},
   "source": [
    "Berdasarkan hasil diatas dapat diketahui jika variabel DataFrame \"all_username_list\" memiliki jumlah baris data sebanyak 4.518. Sementara itu jumlah kolom yang terdapat di dalam DataFrame \"all_username_list\" adalah 2. Kedua kolom yang dimiliki oleh DataFrame \"all_username_list\" adalah kolom \"account_name\" dan kolom \"updated_date\". Namun yang perlu diketahui adalah jika variabel DataFrame \"all_username_list\" memiliki beberapa nilai yang hilang (missing value) karena berdasarkan 5 dan 18 data terakhir yang ditampilkan, akun/username yang bernama \"JECKPOT\", \"Aiwaah Cell\", \"Defzz\", \"Mirza Store\", \"Neng Sungai Bulan\" \"M M\", \"BrenzSTORE\", \"Tosca Cell\", dll., tidak memiliki nilai di kolom \"updated_date\". Hal ini sangat berbanding terbalik dengan 19 data teratas dari DataFrame \"all_username_list\" yang telah ditampilkan di mana kesembilan belas data tersebut memiliki nilai di kolom \"updated_date\".\n",
    "\n",
    "Maka dari itu saya akan menampilkan jumlah missing value dari kedua kolom pada variabel DataFrame \"all_username_list\" sehingga kita dapat mengetahui seberapa banyak nilai data yang hilang dari DataFrame."
   ]
  },
  {
   "cell_type": "code",
   "execution_count": 19,
   "id": "89ed0fef",
   "metadata": {},
   "outputs": [
    {
     "name": "stdout",
     "output_type": "stream",
     "text": [
      "Jumlah Nilai Data yang Hilang (Missing Value) dari Variabel DataFrame 'all_username_list':\n",
      "account_name      0\n",
      "updated_date    208\n",
      "dtype: int64\n"
     ]
    }
   ],
   "source": [
    "# Menampilkan jumlah missing value/nilai data yang hilang dari variabel DataFrame \"all_username_list\"\n",
    "print(\"Jumlah Nilai Data yang Hilang (Missing Value) dari Variabel DataFrame 'all_username_list':\")\n",
    "print(all_username_list.isnull().sum())"
   ]
  },
  {
   "cell_type": "markdown",
   "id": "0d8590b9",
   "metadata": {},
   "source": [
    "Hasil diatas menunjukkan jika terdapat 208 missing value/nilai yang hilang dari kolom \"updated_date\" pada variabel DataFrame \"all_username_list\". Missing value adalah sebuah indikator nilai di dalam DataFrame di mana suatu cell atau baris data tidak menyimpan informasi nilai data yang seharusnya. Sebagai contoh pada indeks data ke-4517 atau baris data ke-4.518, sebuah akun bernama \"Tosca Cell\" tidak memiliki informasi nilai di dalam kolom \"updated_date\" dan hanya terdapat label/nilai NaN.\n",
    "\n",
    "NaN atau Not a Number merupakan sebuah tanda jika baris data dalam suatu kolom tidak memiliki nilai karena jika di analisa lebih mendalam seharusnya indeks data ke-4517 dengan nama akun \"Tosca Cell\" memiliki nilai di kolom \"updated_date\" yang di mana kolom tersebut harus berisikan tanggal pendaftaran akun e-wallet yang berhasil tercatat di dalam sistem perusahaan milik PT XYZ yang bergerak di bidang financial technology. Namun karena tanggal pendaftaran untuk akun \"Tosca Cell\" tidak berhasil ter-record dengan baik di dalam kolom \"updated_date\", maka nilai yang terdapat di dalam kolom tersebut adalah NaN/Not a Number yang mengartikan baris tersebut adalah missing value."
   ]
  },
  {
   "cell_type": "code",
   "execution_count": 20,
   "id": "f6bcbbb9",
   "metadata": {},
   "outputs": [
    {
     "data": {
      "text/plain": [
       "account_name    object\n",
       "updated_date    object\n",
       "dtype: object"
      ]
     },
     "execution_count": 20,
     "metadata": {},
     "output_type": "execute_result"
    }
   ],
   "source": [
    "# Menampilkan tipe data yang dimiliki oleh masing-masing kolom dari variabel DataFrame \"all_username_list\"\n",
    "all_username_list.dtypes"
   ]
  },
  {
   "cell_type": "markdown",
   "id": "e8c6aabf",
   "metadata": {},
   "source": [
    "Hasil diatas menunjukkan jika tipe data yang dimiliki oleh variabel DataFrame \"all_username_list\" hanya tipe data object/string saja. Tipe data object/string menunjukkan jika suatu kolom di dalam DataFrame memiliki nilai yang bukan hanya terdiri dari bilangan angka numerik saja, seperti bilangan pecahan/desimal dan bilangan bulat, tetapi tipe data object/string terdiri dari data yang ditulis dengan kumpulan karakter spesial, simbol-simbol, kumpulan huruf sehingga membantuk suatu kalimat teks serta gabungan antara angka dan juga huruf dan simbol/karakter spesial. Contoh dari data yang memiliki tipe data object/string adalah \"Sigit\", \"Kemerdekaan Indonesia 1945\", \"17 Agustus 1945\", \"Sandi_Object18@@9\", \"Ibnu_Maldini991@gmail.com\", dst. Jika terdapat data seperti kelima contoh tersebut dapat dipastikan jika data tersebut bertipe data object/string.\n",
    "\n",
    "Kedua kolom yang terdapat di dalam DataFrame \"account_name\" dan \"updated_date\" memiliki tipe data object/string. Sebenarnya khusus untuk kolom \"updated_date\", tipe data yang sesuai bukanlah tipe data object melainkan tipe data datetime. Tipe data datetime adalah sebuah tipe data yang biasanya menunjukkan karakteristik data dari suatu event atau kejadian seperti pembelian suatu barang, persediaan barang masuk untuk jumlah stok, tanggal registrasi/pendaftaran akun e-wallet seperti pada penelitian kali ini. Intinya tipe data datetime merupakan tipe data yang sesuai untuk kolom \"updated_date\" karena data-data yang terdapat di dalam kolom tersebut menunjukkan tanggal pendaftaran seluruh akun e-wallet, baik akun fraud dan akun non-fraud."
   ]
  },
  {
   "cell_type": "code",
   "execution_count": 22,
   "id": "f1711633",
   "metadata": {},
   "outputs": [
    {
     "ename": "ValueError",
     "evalue": "time data '19 Agustus 2022' does not match format '%d-%m-%Y' (match)",
     "output_type": "error",
     "traceback": [
      "\u001b[1;31m---------------------------------------------------------------------------\u001b[0m",
      "\u001b[1;31mTypeError\u001b[0m                                 Traceback (most recent call last)",
      "File \u001b[1;32m~\\anaconda3\\lib\\site-packages\\pandas\\core\\tools\\datetimes.py:510\u001b[0m, in \u001b[0;36m_to_datetime_with_format\u001b[1;34m(arg, orig_arg, name, tz, fmt, exact, errors, infer_datetime_format)\u001b[0m\n\u001b[0;32m    509\u001b[0m \u001b[38;5;28;01mtry\u001b[39;00m:\n\u001b[1;32m--> 510\u001b[0m     values, tz \u001b[38;5;241m=\u001b[39m \u001b[43mconversion\u001b[49m\u001b[38;5;241;43m.\u001b[39;49m\u001b[43mdatetime_to_datetime64\u001b[49m\u001b[43m(\u001b[49m\u001b[43marg\u001b[49m\u001b[43m)\u001b[49m\n\u001b[0;32m    511\u001b[0m     dta \u001b[38;5;241m=\u001b[39m DatetimeArray(values, dtype\u001b[38;5;241m=\u001b[39mtz_to_dtype(tz))\n",
      "File \u001b[1;32m~\\anaconda3\\lib\\site-packages\\pandas\\_libs\\tslibs\\conversion.pyx:360\u001b[0m, in \u001b[0;36mpandas._libs.tslibs.conversion.datetime_to_datetime64\u001b[1;34m()\u001b[0m\n",
      "\u001b[1;31mTypeError\u001b[0m: Unrecognized value type: <class 'str'>",
      "\nDuring handling of the above exception, another exception occurred:\n",
      "\u001b[1;31mValueError\u001b[0m                                Traceback (most recent call last)",
      "Input \u001b[1;32mIn [22]\u001b[0m, in \u001b[0;36m<cell line: 1>\u001b[1;34m()\u001b[0m\n\u001b[1;32m----> 1\u001b[0m all_username_list[\u001b[38;5;124m\"\u001b[39m\u001b[38;5;124mupdated_date\u001b[39m\u001b[38;5;124m\"\u001b[39m] \u001b[38;5;241m=\u001b[39m \u001b[43mpd\u001b[49m\u001b[38;5;241;43m.\u001b[39;49m\u001b[43mto_datetime\u001b[49m\u001b[43m(\u001b[49m\u001b[43mall_username_list\u001b[49m\u001b[43m[\u001b[49m\u001b[38;5;124;43m\"\u001b[39;49m\u001b[38;5;124;43mupdated_date\u001b[39;49m\u001b[38;5;124;43m\"\u001b[39;49m\u001b[43m]\u001b[49m\u001b[43m,\u001b[49m\u001b[43m \u001b[49m\u001b[38;5;28;43mformat\u001b[39;49m\u001b[38;5;241;43m=\u001b[39;49m\u001b[38;5;124;43m'\u001b[39;49m\u001b[38;5;132;43;01m%d\u001b[39;49;00m\u001b[38;5;124;43m-\u001b[39;49m\u001b[38;5;124;43m%\u001b[39;49m\u001b[38;5;124;43mm-\u001b[39;49m\u001b[38;5;124;43m%\u001b[39;49m\u001b[38;5;124;43mY\u001b[39;49m\u001b[38;5;124;43m'\u001b[39;49m\u001b[43m)\u001b[49m\n\u001b[0;32m      3\u001b[0m all_username_list\u001b[38;5;241m.\u001b[39mhead()\n",
      "File \u001b[1;32m~\\anaconda3\\lib\\site-packages\\pandas\\core\\tools\\datetimes.py:1047\u001b[0m, in \u001b[0;36mto_datetime\u001b[1;34m(arg, errors, dayfirst, yearfirst, utc, format, exact, unit, infer_datetime_format, origin, cache)\u001b[0m\n\u001b[0;32m   1045\u001b[0m             result \u001b[38;5;241m=\u001b[39m arg\u001b[38;5;241m.\u001b[39mtz_localize(tz)\n\u001b[0;32m   1046\u001b[0m \u001b[38;5;28;01melif\u001b[39;00m \u001b[38;5;28misinstance\u001b[39m(arg, ABCSeries):\n\u001b[1;32m-> 1047\u001b[0m     cache_array \u001b[38;5;241m=\u001b[39m \u001b[43m_maybe_cache\u001b[49m\u001b[43m(\u001b[49m\u001b[43marg\u001b[49m\u001b[43m,\u001b[49m\u001b[43m \u001b[49m\u001b[38;5;28;43mformat\u001b[39;49m\u001b[43m,\u001b[49m\u001b[43m \u001b[49m\u001b[43mcache\u001b[49m\u001b[43m,\u001b[49m\u001b[43m \u001b[49m\u001b[43mconvert_listlike\u001b[49m\u001b[43m)\u001b[49m\n\u001b[0;32m   1048\u001b[0m     \u001b[38;5;28;01mif\u001b[39;00m \u001b[38;5;129;01mnot\u001b[39;00m cache_array\u001b[38;5;241m.\u001b[39mempty:\n\u001b[0;32m   1049\u001b[0m         result \u001b[38;5;241m=\u001b[39m arg\u001b[38;5;241m.\u001b[39mmap(cache_array)\n",
      "File \u001b[1;32m~\\anaconda3\\lib\\site-packages\\pandas\\core\\tools\\datetimes.py:197\u001b[0m, in \u001b[0;36m_maybe_cache\u001b[1;34m(arg, format, cache, convert_listlike)\u001b[0m\n\u001b[0;32m    195\u001b[0m unique_dates \u001b[38;5;241m=\u001b[39m unique(arg)\n\u001b[0;32m    196\u001b[0m \u001b[38;5;28;01mif\u001b[39;00m \u001b[38;5;28mlen\u001b[39m(unique_dates) \u001b[38;5;241m<\u001b[39m \u001b[38;5;28mlen\u001b[39m(arg):\n\u001b[1;32m--> 197\u001b[0m     cache_dates \u001b[38;5;241m=\u001b[39m \u001b[43mconvert_listlike\u001b[49m\u001b[43m(\u001b[49m\u001b[43munique_dates\u001b[49m\u001b[43m,\u001b[49m\u001b[43m \u001b[49m\u001b[38;5;28;43mformat\u001b[39;49m\u001b[43m)\u001b[49m\n\u001b[0;32m    198\u001b[0m     cache_array \u001b[38;5;241m=\u001b[39m Series(cache_dates, index\u001b[38;5;241m=\u001b[39munique_dates)\n\u001b[0;32m    199\u001b[0m     \u001b[38;5;66;03m# GH#39882 and GH#35888 in case of None and NaT we get duplicates\u001b[39;00m\n",
      "File \u001b[1;32m~\\anaconda3\\lib\\site-packages\\pandas\\core\\tools\\datetimes.py:394\u001b[0m, in \u001b[0;36m_convert_listlike_datetimes\u001b[1;34m(arg, format, name, tz, unit, errors, infer_datetime_format, dayfirst, yearfirst, exact)\u001b[0m\n\u001b[0;32m    391\u001b[0m         \u001b[38;5;28mformat\u001b[39m \u001b[38;5;241m=\u001b[39m \u001b[38;5;28;01mNone\u001b[39;00m\n\u001b[0;32m    393\u001b[0m \u001b[38;5;28;01mif\u001b[39;00m \u001b[38;5;28mformat\u001b[39m \u001b[38;5;129;01mis\u001b[39;00m \u001b[38;5;129;01mnot\u001b[39;00m \u001b[38;5;28;01mNone\u001b[39;00m:\n\u001b[1;32m--> 394\u001b[0m     res \u001b[38;5;241m=\u001b[39m \u001b[43m_to_datetime_with_format\u001b[49m\u001b[43m(\u001b[49m\n\u001b[0;32m    395\u001b[0m \u001b[43m        \u001b[49m\u001b[43marg\u001b[49m\u001b[43m,\u001b[49m\u001b[43m \u001b[49m\u001b[43morig_arg\u001b[49m\u001b[43m,\u001b[49m\u001b[43m \u001b[49m\u001b[43mname\u001b[49m\u001b[43m,\u001b[49m\u001b[43m \u001b[49m\u001b[43mtz\u001b[49m\u001b[43m,\u001b[49m\u001b[43m \u001b[49m\u001b[38;5;28;43mformat\u001b[39;49m\u001b[43m,\u001b[49m\u001b[43m \u001b[49m\u001b[43mexact\u001b[49m\u001b[43m,\u001b[49m\u001b[43m \u001b[49m\u001b[43merrors\u001b[49m\u001b[43m,\u001b[49m\u001b[43m \u001b[49m\u001b[43minfer_datetime_format\u001b[49m\n\u001b[0;32m    396\u001b[0m \u001b[43m    \u001b[49m\u001b[43m)\u001b[49m\n\u001b[0;32m    397\u001b[0m     \u001b[38;5;28;01mif\u001b[39;00m res \u001b[38;5;129;01mis\u001b[39;00m \u001b[38;5;129;01mnot\u001b[39;00m \u001b[38;5;28;01mNone\u001b[39;00m:\n\u001b[0;32m    398\u001b[0m         \u001b[38;5;28;01mreturn\u001b[39;00m res\n",
      "File \u001b[1;32m~\\anaconda3\\lib\\site-packages\\pandas\\core\\tools\\datetimes.py:514\u001b[0m, in \u001b[0;36m_to_datetime_with_format\u001b[1;34m(arg, orig_arg, name, tz, fmt, exact, errors, infer_datetime_format)\u001b[0m\n\u001b[0;32m    512\u001b[0m     \u001b[38;5;28;01mreturn\u001b[39;00m DatetimeIndex\u001b[38;5;241m.\u001b[39m_simple_new(dta, name\u001b[38;5;241m=\u001b[39mname)\n\u001b[0;32m    513\u001b[0m \u001b[38;5;28;01mexcept\u001b[39;00m (\u001b[38;5;167;01mValueError\u001b[39;00m, \u001b[38;5;167;01mTypeError\u001b[39;00m):\n\u001b[1;32m--> 514\u001b[0m     \u001b[38;5;28;01mraise\u001b[39;00m err\n",
      "File \u001b[1;32m~\\anaconda3\\lib\\site-packages\\pandas\\core\\tools\\datetimes.py:501\u001b[0m, in \u001b[0;36m_to_datetime_with_format\u001b[1;34m(arg, orig_arg, name, tz, fmt, exact, errors, infer_datetime_format)\u001b[0m\n\u001b[0;32m    498\u001b[0m             \u001b[38;5;28;01mreturn\u001b[39;00m _box_as_indexlike(result, utc\u001b[38;5;241m=\u001b[39mutc, name\u001b[38;5;241m=\u001b[39mname)\n\u001b[0;32m    500\u001b[0m     \u001b[38;5;66;03m# fallback\u001b[39;00m\n\u001b[1;32m--> 501\u001b[0m     res \u001b[38;5;241m=\u001b[39m \u001b[43m_array_strptime_with_fallback\u001b[49m\u001b[43m(\u001b[49m\n\u001b[0;32m    502\u001b[0m \u001b[43m        \u001b[49m\u001b[43marg\u001b[49m\u001b[43m,\u001b[49m\u001b[43m \u001b[49m\u001b[43mname\u001b[49m\u001b[43m,\u001b[49m\u001b[43m \u001b[49m\u001b[43mtz\u001b[49m\u001b[43m,\u001b[49m\u001b[43m \u001b[49m\u001b[43mfmt\u001b[49m\u001b[43m,\u001b[49m\u001b[43m \u001b[49m\u001b[43mexact\u001b[49m\u001b[43m,\u001b[49m\u001b[43m \u001b[49m\u001b[43merrors\u001b[49m\u001b[43m,\u001b[49m\u001b[43m \u001b[49m\u001b[43minfer_datetime_format\u001b[49m\n\u001b[0;32m    503\u001b[0m \u001b[43m    \u001b[49m\u001b[43m)\u001b[49m\n\u001b[0;32m    504\u001b[0m     \u001b[38;5;28;01mreturn\u001b[39;00m res\n\u001b[0;32m    506\u001b[0m \u001b[38;5;28;01mexcept\u001b[39;00m \u001b[38;5;167;01mValueError\u001b[39;00m \u001b[38;5;28;01mas\u001b[39;00m err:\n\u001b[0;32m    507\u001b[0m     \u001b[38;5;66;03m# Fallback to try to convert datetime objects if timezone-aware\u001b[39;00m\n\u001b[0;32m    508\u001b[0m     \u001b[38;5;66;03m#  datetime objects are found without passing `utc=True`\u001b[39;00m\n",
      "File \u001b[1;32m~\\anaconda3\\lib\\site-packages\\pandas\\core\\tools\\datetimes.py:437\u001b[0m, in \u001b[0;36m_array_strptime_with_fallback\u001b[1;34m(arg, name, tz, fmt, exact, errors, infer_datetime_format)\u001b[0m\n\u001b[0;32m    434\u001b[0m utc \u001b[38;5;241m=\u001b[39m tz \u001b[38;5;241m==\u001b[39m \u001b[38;5;124m\"\u001b[39m\u001b[38;5;124mutc\u001b[39m\u001b[38;5;124m\"\u001b[39m\n\u001b[0;32m    436\u001b[0m \u001b[38;5;28;01mtry\u001b[39;00m:\n\u001b[1;32m--> 437\u001b[0m     result, timezones \u001b[38;5;241m=\u001b[39m \u001b[43marray_strptime\u001b[49m\u001b[43m(\u001b[49m\u001b[43marg\u001b[49m\u001b[43m,\u001b[49m\u001b[43m \u001b[49m\u001b[43mfmt\u001b[49m\u001b[43m,\u001b[49m\u001b[43m \u001b[49m\u001b[43mexact\u001b[49m\u001b[38;5;241;43m=\u001b[39;49m\u001b[43mexact\u001b[49m\u001b[43m,\u001b[49m\u001b[43m \u001b[49m\u001b[43merrors\u001b[49m\u001b[38;5;241;43m=\u001b[39;49m\u001b[43merrors\u001b[49m\u001b[43m)\u001b[49m\n\u001b[0;32m    438\u001b[0m     \u001b[38;5;28;01mif\u001b[39;00m \u001b[38;5;124m\"\u001b[39m\u001b[38;5;124m%\u001b[39m\u001b[38;5;124mZ\u001b[39m\u001b[38;5;124m\"\u001b[39m \u001b[38;5;129;01min\u001b[39;00m fmt \u001b[38;5;129;01mor\u001b[39;00m \u001b[38;5;124m\"\u001b[39m\u001b[38;5;124m%\u001b[39m\u001b[38;5;124mz\u001b[39m\u001b[38;5;124m\"\u001b[39m \u001b[38;5;129;01min\u001b[39;00m fmt:\n\u001b[0;32m    439\u001b[0m         \u001b[38;5;28;01mreturn\u001b[39;00m _return_parsed_timezone_results(result, timezones, tz, name)\n",
      "File \u001b[1;32m~\\anaconda3\\lib\\site-packages\\pandas\\_libs\\tslibs\\strptime.pyx:150\u001b[0m, in \u001b[0;36mpandas._libs.tslibs.strptime.array_strptime\u001b[1;34m()\u001b[0m\n",
      "\u001b[1;31mValueError\u001b[0m: time data '19 Agustus 2022' does not match format '%d-%m-%Y' (match)"
     ]
    }
   ],
   "source": [
    "all_username_list[\"updated_date\"] = pd.to_datetime(all_username_list[\"updated_date\"], format='%d-%m-%Y')\n",
    "\n",
    "all_username_list.head()"
   ]
  },
  {
   "cell_type": "code",
   "execution_count": null,
   "id": "313f734a",
   "metadata": {},
   "outputs": [],
   "source": []
  }
 ],
 "metadata": {
  "kernelspec": {
   "display_name": "Python 3 (ipykernel)",
   "language": "python",
   "name": "python3"
  },
  "language_info": {
   "codemirror_mode": {
    "name": "ipython",
    "version": 3
   },
   "file_extension": ".py",
   "mimetype": "text/x-python",
   "name": "python",
   "nbconvert_exporter": "python",
   "pygments_lexer": "ipython3",
   "version": "3.9.12"
  }
 },
 "nbformat": 4,
 "nbformat_minor": 5
}
